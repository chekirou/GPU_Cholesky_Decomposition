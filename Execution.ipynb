{
  "nbformat": 4,
  "nbformat_minor": 0,
  "metadata": {
    "colab": {
      "name": "cuda.ipynb",
      "provenance": []
    },
    "kernelspec": {
      "name": "python3",
      "display_name": "Python 3"
    },
    "language_info": {
      "name": "python"
    }
  },
  "cells": [
    {
      "cell_type": "markdown",
      "metadata": {
        "id": "mlF-apfUvTSO"
      },
      "source": [
        "# Project 1: Batch LDLt factorization\n",
        "Hakim CHEKIROU"
      ]
    },
    {
      "cell_type": "markdown",
      "metadata": {
        "id": "aqBFeMl8vNx3"
      },
      "source": [
        "# Execution"
      ]
    },
    {
      "cell_type": "code",
      "metadata": {
        "id": "Ifh0fsS0r5iz",
        "colab": {
          "base_uri": "https://localhost:8080/"
        },
        "outputId": "9ce03665-51d2-4eb3-9eaa-2f7e7b6055bd"
      },
      "source": [
        "!nvcc -lineinfo -o cholesky cholesky.cu -gencode arch=compute_35,code=compute_35"
      ],
      "execution_count": 87,
      "outputs": [
        {
          "output_type": "stream",
          "text": [
            "nvcc warning : The 'compute_35', 'compute_37', 'compute_50', 'sm_35', 'sm_37' and 'sm_50' architectures are deprecated, and may be removed in a future release (Use -Wno-deprecated-gpu-targets to suppress warning).\n"
          ],
          "name": "stdout"
        }
      ]
    },
    {
      "cell_type": "code",
      "metadata": {
        "colab": {
          "base_uri": "https://localhost:8080/"
        },
        "id": "KrJoBLgAv0dx",
        "outputId": "1a7c4665-1c32-427f-fed0-9c2af4423064"
      },
      "source": [
        "!  ./cholesky "
      ],
      "execution_count": 88,
      "outputs": [
        {
          "output_type": "stream",
          "text": [
            "==================================== \n",
            "dimension 16 :\n",
            "==================================== \n",
            "------------------------------------ \n",
            "Mono thread \n",
            "solution for system : 79 \n",
            "[-0.638891, -0.132570, 0.373751, 0.880072, 1.386393, 1.892715, 2.399035, 2.905357, 3.411678, 3.917999, 4.424319, 4.930641, 5.436962, 5.943284, 6.449604, 6.955925, ]\n",
            "GPU Timer: 62.560993 ms\n",
            "------------------------------------ \n",
            "Row version \n",
            "solution for system : 79 \n",
            "[-0.638891, -0.132570, 0.373751, 0.880072, 1.386393, 1.892715, 2.399035, 2.905357, 3.411678, 3.917999, 4.424319, 4.930641, 5.436962, 5.943284, 6.449604, 6.955925, ]\n",
            "GPU Timer: 22.711231 ms\n",
            "------------------------------------ \n",
            "Col version \n",
            "solution for system : 79 \n",
            "[-0.638891, -0.132570, 0.373751, 0.880072, 1.386393, 1.892715, 2.399035, 2.905357, 3.411678, 3.917999, 4.424319, 4.930641, 5.436962, 5.943284, 6.449604, 6.955925, ]\n",
            "GPU Timer: 22.389889 ms\n"
          ],
          "name": "stdout"
        }
      ]
    },
    {
      "cell_type": "markdown",
      "metadata": {
        "id": "NGEOe79TvCTf"
      },
      "source": [
        "# Affichage des temps d'execution"
      ]
    },
    {
      "cell_type": "code",
      "metadata": {
        "id": "UaJARfpd2YNa"
      },
      "source": [
        "import numpy as np\n",
        "import pandas as pd\n",
        "import matplotlib.pyplot as plt\n",
        "import seaborn as sns \n",
        "sns.set()"
      ],
      "execution_count": 74,
      "outputs": []
    },
    {
      "cell_type": "code",
      "metadata": {
        "id": "qFAiDUOpEQme"
      },
      "source": [
        "results = pd.read_csv(\"/content/results.txt\", sep=\";\")\n",
        "results.set_index(keys=[\"Dimension\"], inplace=True)"
      ],
      "execution_count": 75,
      "outputs": []
    },
    {
      "cell_type": "code",
      "metadata": {
        "colab": {
          "base_uri": "https://localhost:8080/",
          "height": 304
        },
        "id": "5nsaP0_nEaok",
        "outputId": "9eb0a568-22b0-45fe-8532-61f5fa64aa8b"
      },
      "source": [
        "\n",
        "results.plot()\n",
        "plt.ylabel(\"ms\")\n"
      ],
      "execution_count": 76,
      "outputs": [
        {
          "output_type": "execute_result",
          "data": {
            "text/plain": [
              "Text(0, 0.5, 'ms')"
            ]
          },
          "metadata": {
            "tags": []
          },
          "execution_count": 76
        },
        {
          "output_type": "display_data",
          "data": {
            "image/png": "[encoded data removed]",
            "text/plain": [
              "<Figure size 432x288 with 1 Axes>"
            ]
          },
          "metadata": {
            "tags": []
          }
        }
      ]
    },
    {
      "cell_type": "markdown",
      "metadata": {
        "id": "zEb5zQFHvGcn"
      },
      "source": [
        "# GPU utilisé"
      ]
    },
    {
      "cell_type": "code",
      "metadata": {
        "colab": {
          "base_uri": "https://localhost:8080/"
        },
        "id": "7kCAzX0AErWV",
        "outputId": "018eb85b-ab57-4da8-e628-37064b78dc3c"
      },
      "source": [
        "from numba import cuda\n",
        "gpu = cuda.get_current_device()\n",
        "print(\"name = %s\" % gpu.name)\n",
        "print(\"maxThreadsPerBlock = %s\" % str(gpu.MAX_THREADS_PER_BLOCK))\n",
        "print(\"maxBlockDimX = %s\" % str(gpu.MAX_BLOCK_DIM_X))\n",
        "print(\"maxBlockDimY = %s\" % str(gpu.MAX_BLOCK_DIM_Y))\n",
        "print(\"maxBlockDimZ = %s\" % str(gpu.MAX_BLOCK_DIM_Z))\n",
        "print(\"maxGridDimX = %s\" % str(gpu.MAX_GRID_DIM_X))\n",
        "print(\"maxGridDimY = %s\" % str(gpu.MAX_GRID_DIM_Y))\n",
        "print(\"maxGridDimZ = %s\" % str(gpu.MAX_GRID_DIM_Z))\n",
        "print(\"maxSharedMemoryPerBlock = %s\" % str(gpu.MAX_SHARED_MEMORY_PER_BLOCK))\n",
        "print(\"asyncEngineCount = %s\" % str(gpu.ASYNC_ENGINE_COUNT))\n",
        "print(\"canMapHostMemory = %s\" % str(gpu.CAN_MAP_HOST_MEMORY))\n",
        "print(\"multiProcessorCount = %s\" % str(gpu.MULTIPROCESSOR_COUNT))\n",
        "print(\"warpSize = %s\" % str(gpu.WARP_SIZE))\n",
        "print(\"unifiedAddressing = %s\" % str(gpu.UNIFIED_ADDRESSING))\n",
        "print(\"pciBusID = %s\" % str(gpu.PCI_BUS_ID))\n",
        "print(\"pciDeviceID = %s\" % str(gpu.PCI_DEVICE_ID))"
      ],
      "execution_count": 2,
      "outputs": [
        {
          "output_type": "stream",
          "text": [
            "name = b'Tesla T4'\n",
            "maxThreadsPerBlock = 1024\n",
            "maxBlockDimX = 1024\n",
            "maxBlockDimY = 1024\n",
            "maxBlockDimZ = 64\n",
            "maxGridDimX = 2147483647\n",
            "maxGridDimY = 65535\n",
            "maxGridDimZ = 65535\n",
            "maxSharedMemoryPerBlock = 49152\n",
            "asyncEngineCount = 3\n",
            "canMapHostMemory = 1\n",
            "multiProcessorCount = 40\n",
            "warpSize = 32\n",
            "unifiedAddressing = 1\n",
            "pciBusID = 0\n",
            "pciDeviceID = 4\n"
          ],
          "name": "stdout"
        }
      ]
    },
    {
      "cell_type": "markdown",
      "metadata": {
        "id": "4jvmYGPuu7pE"
      },
      "source": [
        "## Verification pour un exemple "
      ]
    },
    {
      "cell_type": "code",
      "metadata": {
        "colab": {
          "base_uri": "https://localhost:8080/"
        },
        "id": "U1jd7wB71vRG",
        "outputId": "8fe0a64b-c1ff-48ff-cff0-e0d6605d2fd0"
      },
      "source": [
        "\n",
        "import numpy as np\n",
        "X = np.array([-0.123493, 0.382828, 0.889149, 1.395470, 1.901791, 2.408113, 2.914433, ])\n",
        "rho = 1.0/(1.1+79)\n",
        "A = np.zeros((7,7)) # matrice numero 79 affichée\n",
        "for i in range(7):\n",
        "  for j in range(7):\n",
        "    if (i==j):\n",
        "      A[i][j] = 1.0\n",
        "    else:\n",
        "      A[i][j] = rho\n",
        "A@X"
      ],
      "execution_count": null,
      "outputs": [
        {
          "output_type": "execute_result",
          "data": {
            "text/plain": [
              "array([-6.61672909e-08,  4.99999823e-01,  9.99999712e-01,  1.49999960e+00,\n",
              "        1.99999949e+00,  2.50000037e+00,  2.99999927e+00])"
            ]
          },
          "metadata": {
            "tags": []
          },
          "execution_count": 1
        }
      ]
    }
  ]
}